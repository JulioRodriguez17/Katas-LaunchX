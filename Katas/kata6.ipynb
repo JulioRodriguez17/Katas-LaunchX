{
 "cells": [
  {
   "cell_type": "markdown",
   "metadata": {},
   "source": [
    "# Kata 6 - Introducción a las listas"
   ]
  },
  {
   "cell_type": "code",
   "execution_count": 4,
   "metadata": {},
   "outputs": [
    {
     "name": "stdout",
     "output_type": "stream",
     "text": [
      "Aqui tenemos 8 planetas\n",
      "Ahora tenemos 9 y el ultimo planeta es: Pluto \n"
     ]
    }
   ],
   "source": [
    "planets = [\"Mercurio\",\"Venus\",\"Tierra\",\"Marte\",\"Saturno\",\"Jupiter\",\"Urano\",\"Neptuno\"]\n",
    "\n",
    "print(f\"\"\"Aqui tenemos {len(planets)} planetas\"\"\")\n",
    "\n",
    "planets.append(\"Pluto\")\n",
    "\n",
    "print(f\"\"\"Ahora tenemos {len(planets)} y el ultimo planeta es: {planets[-1]} \"\"\")"
   ]
  },
  {
   "cell_type": "code",
   "execution_count": 14,
   "metadata": {},
   "outputs": [
    {
     "name": "stdout",
     "output_type": "stream",
     "text": [
      "Los planetas mas cercanos a 'Tierra' son: \n",
      "['Mercurio', 'Venus']\n",
      "Y los planetas mas lejos con respecto al sol son: \n",
      "['Marte', 'Saturno', 'Jupiter', 'Urano', 'Neptuno']\n"
     ]
    }
   ],
   "source": [
    "planets = [\"Mercurio\",\"Venus\",\"Tierra\",\"Marte\",\"Saturno\",\"Jupiter\",\"Urano\",\"Neptuno\"]\n",
    "\n",
    "nuevop = input(\"Dame el nuevo nombre del planeta (En mayuscula la primer letra): \")\n",
    "\n",
    "index = planets.index(nuevop)\n",
    "\n",
    "print(\"Los planetas mas cercanos a '\"+ nuevop +\"' son: \")\n",
    "print(planets[0:index])\n",
    "\n",
    "print(\"Y los planetas mas lejos con respecto al sol son: \")\n",
    "print(planets[index+1:])"
   ]
  }
 ],
 "metadata": {
  "interpreter": {
   "hash": "402f01bbf9733810c17f36424cc137a35c96eb03d9bbf90b3944fcf7c8cece2c"
  },
  "kernelspec": {
   "display_name": "Python 3.10.2 64-bit (windows store)",
   "language": "python",
   "name": "python3"
  },
  "language_info": {
   "codemirror_mode": {
    "name": "ipython",
    "version": 3
   },
   "file_extension": ".py",
   "mimetype": "text/x-python",
   "name": "python",
   "nbconvert_exporter": "python",
   "pygments_lexer": "ipython3",
   "version": "3.10.2"
  },
  "orig_nbformat": 4
 },
 "nbformat": 4,
 "nbformat_minor": 2
}
