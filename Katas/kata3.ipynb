{
 "cells": [
  {
   "cell_type": "markdown",
   "metadata": {},
   "source": [
    "# Ejercicios de logica booleana - kata 3"
   ]
  },
  {
   "cell_type": "code",
   "execution_count": 3,
   "metadata": {},
   "outputs": [
    {
     "name": "stdout",
     "output_type": "stream",
     "text": [
      "Advertencia de choque!!\n"
     ]
    }
   ],
   "source": [
    "meteorovel = 49\n",
    "\n",
    "if meteorovel>25:\n",
    "    print('Advertencia de choque!!')\n",
    "\n",
    "else:\n",
    "    print('Todo esta correcto :)!!')\n"
   ]
  },
  {
   "cell_type": "code",
   "execution_count": 4,
   "metadata": {},
   "outputs": [
    {
     "name": "stdout",
     "output_type": "stream",
     "text": [
      "No hay nada que alertar\n"
     ]
    }
   ],
   "source": [
    "luzmeteoro = 19\n",
    "\n",
    "if luzmeteoro == 20:\n",
    "    print('Hay una luz cerca :)')\n",
    "\n",
    "elif luzmeteoro > 20:\n",
    "    print('Hay una luz cerca :)')\n",
    "\n",
    "else:\n",
    "    print('No hay nada que alertar')"
   ]
  },
  {
   "cell_type": "code",
   "execution_count": 5,
   "metadata": {},
   "outputs": [
    {
     "name": "stdout",
     "output_type": "stream",
     "text": [
      "Hay una luz cerca :)\n"
     ]
    }
   ],
   "source": [
    "tam_meteoro = 40\n",
    "vel_meteoro = 25\n",
    "\n",
    "if tam_meteoro>25 and vel_meteoro>25:\n",
    "    print('P E L I G R O !!!')\n",
    "\n",
    "elif vel_meteoro >= 20:\n",
    "    print('Hay una luz cerca :)')\n",
    "\n",
    "elif tam_meteoro < 25:\n",
    "    print('No hay nada que alertar')\n",
    "\n",
    "else:\n",
    "    print('No hay nada que alertar')\n",
    "\n"
   ]
  }
 ],
 "metadata": {
  "interpreter": {
   "hash": "402f01bbf9733810c17f36424cc137a35c96eb03d9bbf90b3944fcf7c8cece2c"
  },
  "kernelspec": {
   "display_name": "Python 3.10.2 64-bit (windows store)",
   "language": "python",
   "name": "python3"
  },
  "language_info": {
   "codemirror_mode": {
    "name": "ipython",
    "version": 3
   },
   "file_extension": ".py",
   "mimetype": "text/x-python",
   "name": "python",
   "nbconvert_exporter": "python",
   "pygments_lexer": "ipython3",
   "version": "3.10.2"
  },
  "orig_nbformat": 4
 },
 "nbformat": 4,
 "nbformat_minor": 2
}
