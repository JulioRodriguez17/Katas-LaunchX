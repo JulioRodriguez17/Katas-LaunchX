{
 "cells": [
  {
   "cell_type": "markdown",
   "metadata": {},
   "source": [
    "# Kata 9 - Funciones "
   ]
  },
  {
   "cell_type": "code",
   "execution_count": 11,
   "metadata": {},
   "outputs": [
    {
     "name": "stdout",
     "output_type": "stream",
     "text": [
      "El promedio de los tanques es: 78\n",
      "    Tanque 1: 88\n",
      "    Tanque 2: 77\n",
      "    Tanque 3: 70\n",
      "    \n"
     ]
    }
   ],
   "source": [
    "def combustibles(tanque1,tanque2,tanque3):\n",
    "    return f\"\"\"El promedio de los tanques es: {int(prom([tanque1,tanque2,tanque3]))}\n",
    "    Tanque 1: {tanque1}\n",
    "    Tanque 2: {tanque2}\n",
    "    Tanque 3: {tanque3}\n",
    "    \"\"\"\n",
    "\n",
    "def prom(valores):\n",
    "    total = sum(valores)\n",
    "    num = len(valores)\n",
    "    return total/num\n",
    "\n",
    "print(combustibles(88,77,70))"
   ]
  },
  {
   "cell_type": "code",
   "execution_count": 17,
   "metadata": {},
   "outputs": [
    {
     "name": "stdout",
     "output_type": "stream",
     "text": [
      "\n",
      "    Mision a Tierra\n",
      "    Tiempo total de vuelo= 121 min\n",
      "    Total de los tanques= 123444 lt \n",
      "El tanque1 aun tiene= 23444 lt\n",
      "El tanque2 aun tiene= 40000 lt\n",
      "El tanque3 aun tiene= 60000 lt\n",
      "\n"
     ]
    }
   ],
   "source": [
    "# def info_mision(tanque1,tanque2,tiempo_vuelo,destino,pre_hour):\n",
    "#     return f\"\"\"\n",
    "#     Mision a {destino}\n",
    "#     Tiempo total de vuelo= {tiempo_vuelo+pre_hour} min\n",
    "#     Total de los tanques= {tanque1+tanque2} lt\"\"\"\n",
    "\n",
    "# def info_mision(destino,*minutos,**tanques):\n",
    "#     return f\"\"\"\n",
    "#     Mision a {destino}\n",
    "#     Tiempo total de vuelo= {sum(minutos)} min\n",
    "#     Total de los tanques= {sum(tanques.values())} lt\"\"\"\n",
    "\n",
    "def info_mision(destino,*minutos,**tanques):\n",
    "    reporte=f\"\"\"\n",
    "    Mision a {destino}\n",
    "    Tiempo total de vuelo= {sum(minutos)} min\n",
    "    Total de los tanques= {sum(tanques.values())} lt \\n\"\"\"\n",
    "    for nom_t,cap in tanques.items():\n",
    "        reporte += f\"El {nom_t} aun tiene= {cap} lt\\n\"\n",
    "    return reporte\n",
    "\n",
    "print(info_mision('Tierra',22,44,55,tanque1=23444,tanque2=40000,tanque3=60000))"
   ]
  }
 ],
 "metadata": {
  "interpreter": {
   "hash": "402f01bbf9733810c17f36424cc137a35c96eb03d9bbf90b3944fcf7c8cece2c"
  },
  "kernelspec": {
   "display_name": "Python 3.10.2 64-bit (windows store)",
   "language": "python",
   "name": "python3"
  },
  "language_info": {
   "codemirror_mode": {
    "name": "ipython",
    "version": 3
   },
   "file_extension": ".py",
   "mimetype": "text/x-python",
   "name": "python",
   "nbconvert_exporter": "python",
   "pygments_lexer": "ipython3",
   "version": "3.10.2"
  },
  "orig_nbformat": 4
 },
 "nbformat": 4,
 "nbformat_minor": 2
}
