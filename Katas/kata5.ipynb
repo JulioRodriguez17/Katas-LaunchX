{
 "cells": [
  {
   "cell_type": "markdown",
   "metadata": {},
   "source": [
    "# Kata 5 - Usar operaciones matemáticas"
   ]
  },
  {
   "cell_type": "code",
   "execution_count": 8,
   "metadata": {},
   "outputs": [
    {
     "name": "stdout",
     "output_type": "stream",
     "text": [
      "628949330\n",
      "390577533.93\n"
     ]
    }
   ],
   "source": [
    "tierra = 149597870\n",
    "jupiter = 778547200\n",
    "\n",
    "distancia_entre=(jupiter-tierra)\n",
    "distancia2_entre=distancia_entre*0.621\n",
    "\n",
    "print(distancia_entre)\n",
    "print(abs(distancia2_entre))"
   ]
  },
  {
   "cell_type": "code",
   "execution_count": 10,
   "metadata": {},
   "outputs": [
    {
     "name": "stdout",
     "output_type": "stream",
     "text": [
      "1000\n",
      "621.0\n"
     ]
    }
   ],
   "source": [
    "fst_planet = input(\"Dime la distancia del primer planeta\")\n",
    "scnd_planet = input(\"Dime la distancia del segundo planeta\")\n",
    "\n",
    "fst_planet = int(fst_planet)\n",
    "scnd_planet = int(scnd_planet)\n",
    "\n",
    "final_dstnc=fst_planet-scnd_planet\n",
    "final_mil=final_dstnc*0.621\n",
    "\n",
    "print(final_dstnc)\n",
    "print(abs(final_mil))\n"
   ]
  }
 ],
 "metadata": {
  "interpreter": {
   "hash": "402f01bbf9733810c17f36424cc137a35c96eb03d9bbf90b3944fcf7c8cece2c"
  },
  "kernelspec": {
   "display_name": "Python 3.10.2 64-bit (windows store)",
   "language": "python",
   "name": "python3"
  },
  "language_info": {
   "codemirror_mode": {
    "name": "ipython",
    "version": 3
   },
   "file_extension": ".py",
   "mimetype": "text/x-python",
   "name": "python",
   "nbconvert_exporter": "python",
   "pygments_lexer": "ipython3",
   "version": "3.10.2"
  },
  "orig_nbformat": 4
 },
 "nbformat": 4,
 "nbformat_minor": 2
}
