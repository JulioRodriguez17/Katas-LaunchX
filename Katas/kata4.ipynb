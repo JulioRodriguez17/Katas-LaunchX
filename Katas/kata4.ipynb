{
 "cells": [
  {
   "cell_type": "markdown",
   "metadata": {},
   "source": [
    "# Kata4 - Cadenas"
   ]
  },
  {
   "cell_type": "code",
   "execution_count": 10,
   "metadata": {},
   "outputs": [
    {
     "name": "stdout",
     "output_type": "stream",
     "text": [
      "['Interesting facts about the Moon', \" The Moon is Earth's only satellite\", ' There are several interesting facts about the Moon and how it affects life here on Earth', ' \\nOn average, the Moon moves 4cm away from the Earth every year', ' This yearly drift is not significant enough to cause immediate effects on Earth', ' The highest daylight temperature of the Moon is 127 C', '']\n",
      " \n",
      "On average, the Moon moves 4cm away from the Earth every year\n",
      " The highest daylight temperature of the Moon is 127 Celsius\n"
     ]
    }
   ],
   "source": [
    "text = \"\"\"Interesting facts about the Moon. The Moon is Earth's only satellite. There are several interesting facts about the Moon and how it affects life here on Earth. \n",
    "On average, the Moon moves 4cm away from the Earth every year. This yearly drift is not significant enough to cause immediate effects on Earth. The highest daylight temperature of the Moon is 127 C.\"\"\"\n",
    "\n",
    "text = text.split('.')\n",
    "print(text)\n",
    "palabras_clave = [\"average\",\"temperature\",\"distance\"]\n",
    "\n",
    "for oraciones in text:\n",
    "    for claves in palabras_clave:\n",
    "        if claves in oraciones:\n",
    "            print(oraciones.replace(\"C\",\"Celsius\"))\n",
    "            break"
   ]
  },
  {
   "cell_type": "code",
   "execution_count": 11,
   "metadata": {},
   "outputs": [
    {
     "name": "stdout",
     "output_type": "stream",
     "text": [
      "Las Gravedad En Moon \n",
      "-------------------------------------------------- \n",
      "Nombre del Planeta: Tierra\n",
      "Gravedad en Moon: 1.6199999999999999 m/s^2\n",
      "\n",
      "Las Gravedad En Ganímedes \n",
      "-------------------------------------------------- \n",
      "Nombre del Planeta: Marte \n",
      "Gravedad en Moon: 1.4300000000000002 m/s^2 \n"
     ]
    }
   ],
   "source": [
    "nombre =\"Moon\"\n",
    "gravedad = 0.00162 #en kms\n",
    "planeta = \"Tierra\"\n",
    "\n",
    "titulo = f'Las gravedad en {nombre} '\n",
    "\n",
    "plantilla = f\"\"\"{'-'*50} \n",
    "Nombre del Planeta: {planeta}\n",
    "Gravedad en {nombre}: {gravedad*1000} m/s^2\"\"\"\n",
    "\n",
    "informacion = f\"\"\"{titulo.title()}\n",
    "{plantilla}\n",
    "\"\"\"\n",
    "\n",
    "print(informacion)\n",
    "\n",
    "planeta = 'Marte '\n",
    "gravedad  = 0.00143\n",
    "nombre = 'Ganímedes'\n",
    "\n",
    "new_info = f\"\"\"Las Gravedad En {nombre} \n",
    "-------------------------------------------------- \n",
    "Nombre del Planeta: {planeta}\n",
    "Gravedad en Moon: {gravedad*1000} m/s^2 \"\"\"\n",
    "\n",
    "print(new_info.format(nombre=nombre, planeta=planeta, gravedad=gravedad))\n"
   ]
  },
  {
   "cell_type": "markdown",
   "metadata": {},
   "source": []
  }
 ],
 "metadata": {
  "interpreter": {
   "hash": "402f01bbf9733810c17f36424cc137a35c96eb03d9bbf90b3944fcf7c8cece2c"
  },
  "kernelspec": {
   "display_name": "Python 3.10.2 64-bit (windows store)",
   "language": "python",
   "name": "python3"
  },
  "language_info": {
   "codemirror_mode": {
    "name": "ipython",
    "version": 3
   },
   "file_extension": ".py",
   "mimetype": "text/x-python",
   "name": "python",
   "nbconvert_exporter": "python",
   "pygments_lexer": "ipython3",
   "version": "3.10.2"
  },
  "orig_nbformat": 4
 },
 "nbformat": 4,
 "nbformat_minor": 2
}
